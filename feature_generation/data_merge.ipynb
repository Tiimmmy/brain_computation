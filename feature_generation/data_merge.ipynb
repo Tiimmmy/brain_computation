{
 "cells": [
  {
   "cell_type": "markdown",
   "metadata": {},
   "source": [
    "## Load Model"
   ]
  },
  {
   "cell_type": "code",
   "execution_count": 191,
   "metadata": {},
   "outputs": [],
   "source": [
    "import os\n",
    "import pickle\n",
    "import pandas as pd\n",
    "from  matplotlib import pyplot as plt"
   ]
  },
  {
   "cell_type": "code",
   "execution_count": 16,
   "metadata": {},
   "outputs": [],
   "source": [
    "# path = '/home/zhshen/data/zebra_fish/DATA_TEMP/mytu/ANTs/aligned/'\n",
    "# for root, dirs, files in os.walk(path):\n",
    "#     if len(files) == 2:\n",
    "#         print(root)"
   ]
  },
  {
   "cell_type": "code",
   "execution_count": 15,
   "metadata": {},
   "outputs": [],
   "source": [
    "# path = '/data2/mytu/feature_generation/features/'\n",
    "# for root, dirs, files in os.walk(path):\n",
    "#     if len(files) == 2:\n",
    "#         for file in files:\n",
    "#             data_path = os.path.join(root, file)\n",
    "#             print(data_path)"
   ]
  },
  {
   "cell_type": "markdown",
   "metadata": {},
   "source": [
    "## generate to binary labels of addict/no-addict"
   ]
  },
  {
   "cell_type": "code",
   "execution_count": 36,
   "metadata": {},
   "outputs": [],
   "source": [
    "old_features = {}\n",
    "path = '/data2/mytu/feature_generation/features/old'\n",
    "for root, dirs, files in os.walk(path):\n",
    "    for file in files:\n",
    "        if file.endswith('.pkl'):\n",
    "            #print(root)\n",
    "            data_path = os.path.join(root, file)\n",
    "#             print(data_path)\n",
    "            #load features\n",
    "            df = open(data_path, 'rb')\n",
    "            data = pickle.load(df)\n",
    "            df.close()\n",
    "            \n",
    "            #drugs info\n",
    "            data_info = data_path.split('/')\n",
    "#             print(data_info)\n",
    "            fish_num = data_info[-1][0]\n",
    "            fish_pos = data_info[-2]\n",
    "            use_drug = data_info[-4][:4]\n",
    "            drug_index = data_info[-6]\n",
    "            \n",
    "            drug_features = {\n",
    "                drug_index:{\n",
    "                    fish_num:{\n",
    "                        fish_pos:{\n",
    "                            use_drug:data\n",
    "                        }\n",
    "                    }\n",
    "                }\n",
    "            }\n",
    "            \n",
    "            if drug_index in old_features.keys():\n",
    "                if fish_num in old_features[drug_index].keys():\n",
    "                    if fish_pos in old_features[drug_index][fish_num].keys():\n",
    "                        old_features[drug_index][fish_num][fish_pos].update(**drug_features[drug_index][fish_num][fish_pos])\n",
    "                    else:\n",
    "                        old_features[drug_index][fish_num].update(**drug_features[drug_index][fish_num])\n",
    "                else:\n",
    "                    old_features[drug_index].update(**drug_features[drug_index])\n",
    "            else:\n",
    "                old_features.update(**drug_features)"
   ]
  },
  {
   "cell_type": "code",
   "execution_count": 39,
   "metadata": {
    "scrolled": true
   },
   "outputs": [],
   "source": [
    "old_path = '/data2/mytu/feature_generation/features/old_features.pkl'\n",
    "f = open(old_path, 'wb')\n",
    "pickle.dump(old_features, f)\n",
    "f.close()"
   ]
  },
  {
   "cell_type": "code",
   "execution_count": 7,
   "metadata": {},
   "outputs": [],
   "source": [
    "drugs_features = {}\n",
    "path = '/data2/mytu/feature_generation/features/drugs'\n",
    "for root, dirs, files in os.walk(path):\n",
    "    for file in files:\n",
    "        if file.endswith('.pkl'):\n",
    "            #print(root)\n",
    "            data_path = os.path.join(root, file)\n",
    "#             print(data_path)\n",
    "            #load features\n",
    "            df = open(data_path, 'rb')\n",
    "            data = pickle.load(df)\n",
    "            df.close()\n",
    "            \n",
    "            #drugs info\n",
    "            data_info = data_path.split('/')\n",
    "#             print(data_info)\n",
    "            fish_num = data_info[-1][0]\n",
    "            fish_pos = data_info[-2]\n",
    "            use_drug = data_info[-4][:4]\n",
    "            drug_index = data_info[-6]\n",
    "            \n",
    "            drug_features = {\n",
    "                drug_index:{\n",
    "                    fish_num:{\n",
    "                        fish_pos:{\n",
    "                            use_drug:data\n",
    "                        }\n",
    "                    }\n",
    "                }\n",
    "            }\n",
    "            \n",
    "            if drug_index in drugs_features.keys():\n",
    "                if fish_num in drugs_features[drug_index].keys():\n",
    "                    if fish_pos in drugs_features[drug_index][fish_num].keys():\n",
    "                        drugs_features[drug_index][fish_num][fish_pos].update(**drug_features[drug_index][fish_num][fish_pos])\n",
    "                    else:\n",
    "                        drugs_features[drug_index][fish_num].update(**drug_features[drug_index][fish_num])\n",
    "                else:\n",
    "                    drugs_features[drug_index].update(**drug_features[drug_index])\n",
    "            else:\n",
    "                drugs_features.update(**drug_features)"
   ]
  },
  {
   "cell_type": "code",
   "execution_count": 8,
   "metadata": {},
   "outputs": [],
   "source": [
    "drugs_path = '/data2/mytu/feature_generation/features/drugs_features.pkl'\n",
    "f = open(drugs_path, 'wb')\n",
    "pickle.dump(drugs_features, f)\n",
    "f.close()"
   ]
  },
  {
   "cell_type": "code",
   "execution_count": 9,
   "metadata": {
    "scrolled": true
   },
   "outputs": [
    {
     "data": {
      "text/plain": [
       "2"
      ]
     },
     "execution_count": 9,
     "metadata": {},
     "output_type": "execute_result"
    }
   ],
   "source": [
    "len(drugs_features['HL-99']['1'])"
   ]
  },
  {
   "cell_type": "code",
   "execution_count": 264,
   "metadata": {},
   "outputs": [],
   "source": [
    "drugs_path = '/data2/mytu/feature_generation/features/drugs_features.pkl'\n",
    "f = open(drugs_path, 'rb')\n",
    "drugs_features = pickle.load(f)\n",
    "f.close()"
   ]
  },
  {
   "cell_type": "code",
   "execution_count": 325,
   "metadata": {},
   "outputs": [],
   "source": [
    "old_path = '/data2/mytu/feature_generation/features/old_features.pkl'\n",
    "f = open(old_path, 'rb')\n",
    "old_features = pickle.load(f)\n",
    "f.close()"
   ]
  },
  {
   "cell_type": "code",
   "execution_count": 326,
   "metadata": {},
   "outputs": [],
   "source": [
    "# df_features_drugs = pd.DataFrame.from_dict(drugs_features)\n",
    "df_features_old = pd.DataFrame.from_dict(old_features)"
   ]
  },
  {
   "cell_type": "code",
   "execution_count": 327,
   "metadata": {},
   "outputs": [
    {
     "data": {
      "text/html": [
       "<div>\n",
       "<style scoped>\n",
       "    .dataframe tbody tr th:only-of-type {\n",
       "        vertical-align: middle;\n",
       "    }\n",
       "\n",
       "    .dataframe tbody tr th {\n",
       "        vertical-align: top;\n",
       "    }\n",
       "\n",
       "    .dataframe thead th {\n",
       "        text-align: right;\n",
       "    }\n",
       "</style>\n",
       "<table border=\"1\" class=\"dataframe\">\n",
       "  <thead>\n",
       "    <tr style=\"text-align: right;\">\n",
       "      <th></th>\n",
       "      <th>1046</th>\n",
       "      <th>1047</th>\n",
       "      <th>1049</th>\n",
       "      <th>1050</th>\n",
       "      <th>1051</th>\n",
       "      <th>1052</th>\n",
       "      <th>1053</th>\n",
       "      <th>1054</th>\n",
       "      <th>1055</th>\n",
       "      <th>1056</th>\n",
       "      <th>...</th>\n",
       "      <th>1324</th>\n",
       "      <th>1330</th>\n",
       "      <th>1516</th>\n",
       "      <th>1517</th>\n",
       "      <th>1518</th>\n",
       "      <th>1520</th>\n",
       "      <th>1522</th>\n",
       "      <th>1523</th>\n",
       "      <th>1531</th>\n",
       "      <th>1535</th>\n",
       "    </tr>\n",
       "  </thead>\n",
       "  <tbody>\n",
       "    <tr>\n",
       "      <th>1</th>\n",
       "      <td>{'Pos1': {'test': {'num_peaks': [5, 2, 4, 2, 4...</td>\n",
       "      <td>{'Pos1': {'test': {'num_peaks': [2, 2, 3, 2, 3...</td>\n",
       "      <td>NaN</td>\n",
       "      <td>{'Pos1': {'test': {'num_peaks': [1, 2, 1, 1, 1...</td>\n",
       "      <td>{'Pos1': {'test': {'num_peaks': [1, 1, 1, 2, 2...</td>\n",
       "      <td>{'Pos1': {'test': {'num_peaks': [2, 0, 2, 1, 1...</td>\n",
       "      <td>{'Pos1': {'test': {'num_peaks': [6, 5, 4, 4, 5...</td>\n",
       "      <td>{'Pos1': {'cont': {'num_peaks': [0, 0, 1, 1, 2...</td>\n",
       "      <td>{'Pos1': {'test': {'num_peaks': [1, 1, 3, 3, 2...</td>\n",
       "      <td>{'Pos1': {'test': {'num_peaks': [2, 0, 3, 1, 3...</td>\n",
       "      <td>...</td>\n",
       "      <td>{'Pos0': {'cont': {'num_peaks': [1, 1, 2, 0, 3...</td>\n",
       "      <td>{'Pos0': {'cont': {'num_peaks': [6, 3, 5, 1, 6...</td>\n",
       "      <td>{'Pos0': {'cont': {'num_peaks': [4, 3, 3, 2, 4...</td>\n",
       "      <td>{'Pos0': {'cont': {'num_peaks': [4, 4, 5, 1, 6...</td>\n",
       "      <td>{'Pos0': {'cont': {'num_peaks': [6, 3, 6, 3, 3...</td>\n",
       "      <td>{'Pos0': {'cont': {'num_peaks': [7, 7, 5, 2, 6...</td>\n",
       "      <td>{'Pos0': {'cont': {'num_peaks': [3, 7, 7, 1, 6...</td>\n",
       "      <td>{'Pos0': {'cont': {'num_peaks': [3, 2, 3, 0, 6...</td>\n",
       "      <td>{'Pos0': {'cont': {'num_peaks': [4, 3, 4, 3, 5...</td>\n",
       "      <td>{'Pos0': {'cont': {'num_peaks': [3, 3, 5, 3, 2...</td>\n",
       "    </tr>\n",
       "    <tr>\n",
       "      <th>2</th>\n",
       "      <td>{'Pos1': {'test': {'num_peaks': [1, 6, 8, 4, 1...</td>\n",
       "      <td>{'Pos1': {'test': {'num_peaks': [2, 1, 3, 4, 6...</td>\n",
       "      <td>{'Pos1': {'test': {'num_peaks': [1, 1, 1, 1, 1...</td>\n",
       "      <td>{'Pos1': {'test': {'num_peaks': [0, 3, 5, 1, 3...</td>\n",
       "      <td>{'Pos1': {'test': {'num_peaks': [0, 2, 2, 0, 1...</td>\n",
       "      <td>{'Pos1': {'test': {'num_peaks': [5, 0, 6, 5, 3...</td>\n",
       "      <td>{'Pos1': {'test': {'num_peaks': [0, 1, 1, 0, 1...</td>\n",
       "      <td>{'Pos1': {'test': {'num_peaks': [0, 3, 2, 2, 3...</td>\n",
       "      <td>{'Pos1': {'test': {'num_peaks': [0, 0, 0, 3, 4...</td>\n",
       "      <td>{'Pos1': {'test': {'num_peaks': [2, 1, 0, 2, 1...</td>\n",
       "      <td>...</td>\n",
       "      <td>{'Pos0': {'cont': {'num_peaks': [1, 0, 3, 2, 3...</td>\n",
       "      <td>{'Pos0': {'cont': {'num_peaks': [4, 2, 3, 5, 3...</td>\n",
       "      <td>{'Pos0': {'cont': {'num_peaks': [2, 2, 3, 1, 3...</td>\n",
       "      <td>{'Pos0': {'cont': {'num_peaks': [6, 4, 6, 3, 2...</td>\n",
       "      <td>{'Pos0': {'cont': {'num_peaks': [2, 1, 4, 3, 2...</td>\n",
       "      <td>{'Pos0': {'cont': {'num_peaks': [5, 2, 4, 4, 1...</td>\n",
       "      <td>{'Pos0': {'cont': {'num_peaks': [4, 2, 6, 2, 2...</td>\n",
       "      <td>{'Pos0': {'cont': {'num_peaks': [1, 5, 3, 1, 4...</td>\n",
       "      <td>{'Pos0': {'cont': {'num_peaks': [4, 10, 9, 1, ...</td>\n",
       "      <td>{'Pos0': {'cont': {'num_peaks': [8, 8, 9, 4, 8...</td>\n",
       "    </tr>\n",
       "    <tr>\n",
       "      <th>3</th>\n",
       "      <td>{'Pos0': {'cont': {'num_peaks': [1, 1, 4, 0, 4...</td>\n",
       "      <td>{'Pos0': {'cont': {'num_peaks': [2, 1, 6, 0, 1...</td>\n",
       "      <td>{'Pos0': {'cont': {'num_peaks': [4, 5, 6, 3, 3...</td>\n",
       "      <td>{'Pos0': {'cont': {'num_peaks': [3, 2, 1, 1, 2...</td>\n",
       "      <td>{'Pos0': {'cont': {'num_peaks': [1, 1, 2, 1, 2...</td>\n",
       "      <td>{'Pos0': {'cont': {'num_peaks': [3, 3, 4, 5, 4...</td>\n",
       "      <td>{'Pos0': {'cont': {'num_peaks': [3, 4, 6, 3, 9...</td>\n",
       "      <td>{'Pos0': {'cont': {'num_peaks': [4, 2, 4, 3, 3...</td>\n",
       "      <td>{'Pos0': {'cont': {'num_peaks': [4, 2, 4, 1, 4...</td>\n",
       "      <td>{'Pos0': {'cont': {'num_peaks': [3, 2, 4, 3, 6...</td>\n",
       "      <td>...</td>\n",
       "      <td>NaN</td>\n",
       "      <td>NaN</td>\n",
       "      <td>{'Pos0': {'cont': {'num_peaks': [3, 3, 3, 2, 3...</td>\n",
       "      <td>{'Pos0': {'cont': {'num_peaks': [8, 8, 11, 4, ...</td>\n",
       "      <td>NaN</td>\n",
       "      <td>NaN</td>\n",
       "      <td>NaN</td>\n",
       "      <td>{'Pos0': {'cont': {'num_peaks': [6, 6, 7, 4, 6...</td>\n",
       "      <td>{'Pos0': {'cont': {'num_peaks': [2, 3, 5, 3, 3...</td>\n",
       "      <td>{'Pos0': {'cont': {'num_peaks': [1, 4, 4, 0, 0...</td>\n",
       "    </tr>\n",
       "    <tr>\n",
       "      <th>4</th>\n",
       "      <td>{'Pos0': {'cont': {'num_peaks': [3, 4, 4, 2, 5...</td>\n",
       "      <td>{'Pos0': {'cont': {'num_peaks': [6, 6, 7, 5, 4...</td>\n",
       "      <td>{'Pos0': {'cont': {'num_peaks': [3, 3, 3, 6, 4...</td>\n",
       "      <td>{'Pos0': {'cont': {'num_peaks': [3, 5, 4, 4, 2...</td>\n",
       "      <td>{'Pos0': {'cont': {'num_peaks': [1, 1, 1, 1, 1...</td>\n",
       "      <td>{'Pos0': {'cont': {'num_peaks': [2, 3, 7, 2, 4...</td>\n",
       "      <td>{'Pos0': {'cont': {'num_peaks': [3, 3, 1, 1, 3...</td>\n",
       "      <td>{'Pos0': {'cont': {'num_peaks': [6, 2, 3, 5, 6...</td>\n",
       "      <td>{'Pos0': {'cont': {'num_peaks': [3, 4, 5, 2, 4...</td>\n",
       "      <td>{'Pos0': {'cont': {'num_peaks': [2, 2, 3, 2, 2...</td>\n",
       "      <td>...</td>\n",
       "      <td>NaN</td>\n",
       "      <td>NaN</td>\n",
       "      <td>{'Pos0': {'cont': {'num_peaks': [4, 2, 5, 4, 3...</td>\n",
       "      <td>{'Pos0': {'cont': {'num_peaks': [6, 6, 6, 4, 6...</td>\n",
       "      <td>NaN</td>\n",
       "      <td>NaN</td>\n",
       "      <td>NaN</td>\n",
       "      <td>{'Pos0': {'cont': {'num_peaks': [2, 1, 3, 1, 4...</td>\n",
       "      <td>{'Pos0': {'cont': {'num_peaks': [2, 3, 3, 2, 3...</td>\n",
       "      <td>{'Pos0': {'cont': {'num_peaks': [2, 4, 3, 2, 4...</td>\n",
       "    </tr>\n",
       "  </tbody>\n",
       "</table>\n",
       "<p>4 rows × 172 columns</p>\n",
       "</div>"
      ],
      "text/plain": [
       "                                                1046  \\\n",
       "1  {'Pos1': {'test': {'num_peaks': [5, 2, 4, 2, 4...   \n",
       "2  {'Pos1': {'test': {'num_peaks': [1, 6, 8, 4, 1...   \n",
       "3  {'Pos0': {'cont': {'num_peaks': [1, 1, 4, 0, 4...   \n",
       "4  {'Pos0': {'cont': {'num_peaks': [3, 4, 4, 2, 5...   \n",
       "\n",
       "                                                1047  \\\n",
       "1  {'Pos1': {'test': {'num_peaks': [2, 2, 3, 2, 3...   \n",
       "2  {'Pos1': {'test': {'num_peaks': [2, 1, 3, 4, 6...   \n",
       "3  {'Pos0': {'cont': {'num_peaks': [2, 1, 6, 0, 1...   \n",
       "4  {'Pos0': {'cont': {'num_peaks': [6, 6, 7, 5, 4...   \n",
       "\n",
       "                                                1049  \\\n",
       "1                                                NaN   \n",
       "2  {'Pos1': {'test': {'num_peaks': [1, 1, 1, 1, 1...   \n",
       "3  {'Pos0': {'cont': {'num_peaks': [4, 5, 6, 3, 3...   \n",
       "4  {'Pos0': {'cont': {'num_peaks': [3, 3, 3, 6, 4...   \n",
       "\n",
       "                                                1050  \\\n",
       "1  {'Pos1': {'test': {'num_peaks': [1, 2, 1, 1, 1...   \n",
       "2  {'Pos1': {'test': {'num_peaks': [0, 3, 5, 1, 3...   \n",
       "3  {'Pos0': {'cont': {'num_peaks': [3, 2, 1, 1, 2...   \n",
       "4  {'Pos0': {'cont': {'num_peaks': [3, 5, 4, 4, 2...   \n",
       "\n",
       "                                                1051  \\\n",
       "1  {'Pos1': {'test': {'num_peaks': [1, 1, 1, 2, 2...   \n",
       "2  {'Pos1': {'test': {'num_peaks': [0, 2, 2, 0, 1...   \n",
       "3  {'Pos0': {'cont': {'num_peaks': [1, 1, 2, 1, 2...   \n",
       "4  {'Pos0': {'cont': {'num_peaks': [1, 1, 1, 1, 1...   \n",
       "\n",
       "                                                1052  \\\n",
       "1  {'Pos1': {'test': {'num_peaks': [2, 0, 2, 1, 1...   \n",
       "2  {'Pos1': {'test': {'num_peaks': [5, 0, 6, 5, 3...   \n",
       "3  {'Pos0': {'cont': {'num_peaks': [3, 3, 4, 5, 4...   \n",
       "4  {'Pos0': {'cont': {'num_peaks': [2, 3, 7, 2, 4...   \n",
       "\n",
       "                                                1053  \\\n",
       "1  {'Pos1': {'test': {'num_peaks': [6, 5, 4, 4, 5...   \n",
       "2  {'Pos1': {'test': {'num_peaks': [0, 1, 1, 0, 1...   \n",
       "3  {'Pos0': {'cont': {'num_peaks': [3, 4, 6, 3, 9...   \n",
       "4  {'Pos0': {'cont': {'num_peaks': [3, 3, 1, 1, 3...   \n",
       "\n",
       "                                                1054  \\\n",
       "1  {'Pos1': {'cont': {'num_peaks': [0, 0, 1, 1, 2...   \n",
       "2  {'Pos1': {'test': {'num_peaks': [0, 3, 2, 2, 3...   \n",
       "3  {'Pos0': {'cont': {'num_peaks': [4, 2, 4, 3, 3...   \n",
       "4  {'Pos0': {'cont': {'num_peaks': [6, 2, 3, 5, 6...   \n",
       "\n",
       "                                                1055  \\\n",
       "1  {'Pos1': {'test': {'num_peaks': [1, 1, 3, 3, 2...   \n",
       "2  {'Pos1': {'test': {'num_peaks': [0, 0, 0, 3, 4...   \n",
       "3  {'Pos0': {'cont': {'num_peaks': [4, 2, 4, 1, 4...   \n",
       "4  {'Pos0': {'cont': {'num_peaks': [3, 4, 5, 2, 4...   \n",
       "\n",
       "                                                1056  ...  \\\n",
       "1  {'Pos1': {'test': {'num_peaks': [2, 0, 3, 1, 3...  ...   \n",
       "2  {'Pos1': {'test': {'num_peaks': [2, 1, 0, 2, 1...  ...   \n",
       "3  {'Pos0': {'cont': {'num_peaks': [3, 2, 4, 3, 6...  ...   \n",
       "4  {'Pos0': {'cont': {'num_peaks': [2, 2, 3, 2, 2...  ...   \n",
       "\n",
       "                                                1324  \\\n",
       "1  {'Pos0': {'cont': {'num_peaks': [1, 1, 2, 0, 3...   \n",
       "2  {'Pos0': {'cont': {'num_peaks': [1, 0, 3, 2, 3...   \n",
       "3                                                NaN   \n",
       "4                                                NaN   \n",
       "\n",
       "                                                1330  \\\n",
       "1  {'Pos0': {'cont': {'num_peaks': [6, 3, 5, 1, 6...   \n",
       "2  {'Pos0': {'cont': {'num_peaks': [4, 2, 3, 5, 3...   \n",
       "3                                                NaN   \n",
       "4                                                NaN   \n",
       "\n",
       "                                                1516  \\\n",
       "1  {'Pos0': {'cont': {'num_peaks': [4, 3, 3, 2, 4...   \n",
       "2  {'Pos0': {'cont': {'num_peaks': [2, 2, 3, 1, 3...   \n",
       "3  {'Pos0': {'cont': {'num_peaks': [3, 3, 3, 2, 3...   \n",
       "4  {'Pos0': {'cont': {'num_peaks': [4, 2, 5, 4, 3...   \n",
       "\n",
       "                                                1517  \\\n",
       "1  {'Pos0': {'cont': {'num_peaks': [4, 4, 5, 1, 6...   \n",
       "2  {'Pos0': {'cont': {'num_peaks': [6, 4, 6, 3, 2...   \n",
       "3  {'Pos0': {'cont': {'num_peaks': [8, 8, 11, 4, ...   \n",
       "4  {'Pos0': {'cont': {'num_peaks': [6, 6, 6, 4, 6...   \n",
       "\n",
       "                                                1518  \\\n",
       "1  {'Pos0': {'cont': {'num_peaks': [6, 3, 6, 3, 3...   \n",
       "2  {'Pos0': {'cont': {'num_peaks': [2, 1, 4, 3, 2...   \n",
       "3                                                NaN   \n",
       "4                                                NaN   \n",
       "\n",
       "                                                1520  \\\n",
       "1  {'Pos0': {'cont': {'num_peaks': [7, 7, 5, 2, 6...   \n",
       "2  {'Pos0': {'cont': {'num_peaks': [5, 2, 4, 4, 1...   \n",
       "3                                                NaN   \n",
       "4                                                NaN   \n",
       "\n",
       "                                                1522  \\\n",
       "1  {'Pos0': {'cont': {'num_peaks': [3, 7, 7, 1, 6...   \n",
       "2  {'Pos0': {'cont': {'num_peaks': [4, 2, 6, 2, 2...   \n",
       "3                                                NaN   \n",
       "4                                                NaN   \n",
       "\n",
       "                                                1523  \\\n",
       "1  {'Pos0': {'cont': {'num_peaks': [3, 2, 3, 0, 6...   \n",
       "2  {'Pos0': {'cont': {'num_peaks': [1, 5, 3, 1, 4...   \n",
       "3  {'Pos0': {'cont': {'num_peaks': [6, 6, 7, 4, 6...   \n",
       "4  {'Pos0': {'cont': {'num_peaks': [2, 1, 3, 1, 4...   \n",
       "\n",
       "                                                1531  \\\n",
       "1  {'Pos0': {'cont': {'num_peaks': [4, 3, 4, 3, 5...   \n",
       "2  {'Pos0': {'cont': {'num_peaks': [4, 10, 9, 1, ...   \n",
       "3  {'Pos0': {'cont': {'num_peaks': [2, 3, 5, 3, 3...   \n",
       "4  {'Pos0': {'cont': {'num_peaks': [2, 3, 3, 2, 3...   \n",
       "\n",
       "                                                1535  \n",
       "1  {'Pos0': {'cont': {'num_peaks': [3, 3, 5, 3, 2...  \n",
       "2  {'Pos0': {'cont': {'num_peaks': [8, 8, 9, 4, 8...  \n",
       "3  {'Pos0': {'cont': {'num_peaks': [1, 4, 4, 0, 0...  \n",
       "4  {'Pos0': {'cont': {'num_peaks': [2, 4, 3, 2, 4...  \n",
       "\n",
       "[4 rows x 172 columns]"
      ]
     },
     "execution_count": 327,
     "metadata": {},
     "output_type": "execute_result"
    }
   ],
   "source": [
    "df_features_old.head(5)"
   ]
  },
  {
   "cell_type": "code",
   "execution_count": 202,
   "metadata": {},
   "outputs": [],
   "source": [
    "demo = df_features_old['1046']['1'] "
   ]
  },
  {
   "cell_type": "code",
   "execution_count": 200,
   "metadata": {},
   "outputs": [],
   "source": [
    "df_demo = pd.DataFrame(demo)"
   ]
  },
  {
   "cell_type": "code",
   "execution_count": 83,
   "metadata": {},
   "outputs": [],
   "source": [
    "demo_demo = df_demo['Pos0']['test']"
   ]
  },
  {
   "cell_type": "code",
   "execution_count": 85,
   "metadata": {},
   "outputs": [
    {
     "data": {
      "text/plain": [
       "dict_keys(['num_peaks', 'areas_sum', 'areas_mean', 'duration_mean', 'dr', 'height_max', 'height_mean', 'ap_mean', 'interval_mean', 'separation_mean', 'connection_corr', 'value_corr', 'active_regions'])"
      ]
     },
     "execution_count": 85,
     "metadata": {},
     "output_type": "execute_result"
    }
   ],
   "source": [
    "demo_demo.keys()"
   ]
  },
  {
   "cell_type": "markdown",
   "metadata": {},
   "source": [
    "## Extract_Features to ndarray"
   ]
  },
  {
   "cell_type": "code",
   "execution_count": 11,
   "metadata": {},
   "outputs": [],
   "source": [
    "def Extract_Features(demo, category):\n",
    "    num_peaks = np.zeros([4, 100])\n",
    "    try:\n",
    "        num_peaks[0] = demo['Pos0']['cont'][category]\n",
    "        num_peaks[1] = demo['Pos0']['test'][category]\n",
    "        num_peaks[2] = demo['Pos1']['cont'][category]\n",
    "        num_peaks[3] = demo['Pos1']['test'][category]\n",
    "    except:\n",
    "        num_peaks = np.nan\n",
    "    return num_peaks"
   ]
  },
  {
   "cell_type": "code",
   "execution_count": 125,
   "metadata": {},
   "outputs": [],
   "source": [
    "def Extract_Features(demo, category):\n",
    "    num_peaks = np.zeros([600])\n",
    "    try:\n",
    "        c0 = np.array(demo['Pos0']['cont'][category])\n",
    "        t0 = np.array(demo['Pos0']['test'][category])\n",
    "        c1 = np.array(demo['Pos1']['cont'][category])\n",
    "        t1 = np.array(demo['Pos1']['test'][category])\n",
    "        num_peaks[0:100] = c0\n",
    "        num_peaks[100:200] = t0\n",
    "        num_peaks[200:300] = c1\n",
    "        num_peaks[300:400] = t1\n",
    "        num_peaks[400:500] = t0 - c0\n",
    "        num_peaks[500:600] = t1 - c1\n",
    "    except:\n",
    "        num_peaks = np.nan\n",
    "    return num_peaks"
   ]
  },
  {
   "cell_type": "code",
   "execution_count": 126,
   "metadata": {},
   "outputs": [],
   "source": [
    "df_num_peaks = df_features_drugs.applymap(lambda x: Extract_Features(x, 'num_peaks'), na_action='ignore')\n",
    "df_areas_sum = df_features_drugs.applymap(lambda x: Extract_Features(x, 'areas_sum'), na_action='ignore')\n",
    "df_areas_mean = df_features_drugs.applymap(lambda x: Extract_Features(x, 'areas_mean'), na_action='ignore')\n",
    "df_duration_mean = df_features_drugs.applymap(lambda x: Extract_Features(x, 'duration_mean'), na_action='ignore')\n",
    "df_dr = df_features_drugs.applymap(lambda x: Extract_Features(x, 'dr'), na_action='ignore')\n",
    "df_height_max = df_features_drugs.applymap(lambda x: Extract_Features(x, 'height_max'), na_action='ignore')\n",
    "df_height_mean = df_features_drugs.applymap(lambda x: Extract_Features(x, 'height_mean'), na_action='ignore')\n",
    "df_ap_mean = df_features_drugs.applymap(lambda x: Extract_Features(x, 'ap_mean'), na_action='ignore')\n",
    "df_interval_mean = df_features_drugs.applymap(lambda x: Extract_Features(x, 'interval_mean'), na_action='ignore')\n",
    "df_separation_mean = df_features_drugs.applymap(lambda x: Extract_Features(x, 'separation_mean'), na_action='ignore')"
   ]
  },
  {
   "cell_type": "code",
   "execution_count": 158,
   "metadata": {},
   "outputs": [],
   "source": [
    "df_num_peaks = df_features_old.applymap(lambda x: Extract_Features(x, 'num_peaks'), na_action='ignore')\n",
    "df_areas_sum = df_features_old.applymap(lambda x: Extract_Features(x, 'areas_sum'), na_action='ignore')\n",
    "df_areas_mean = df_features_old.applymap(lambda x: Extract_Features(x, 'areas_mean'), na_action='ignore')\n",
    "df_duration_mean = df_features_old.applymap(lambda x: Extract_Features(x, 'duration_mean'), na_action='ignore')\n",
    "df_dr = df_features_old.applymap(lambda x: Extract_Features(x, 'dr'), na_action='ignore')\n",
    "df_height_max = df_features_old.applymap(lambda x: Extract_Features(x, 'height_max'), na_action='ignore')\n",
    "df_height_mean = df_features_old.applymap(lambda x: Extract_Features(x, 'height_mean'), na_action='ignore')\n",
    "df_ap_mean = df_features_old.applymap(lambda x: Extract_Features(x, 'ap_mean'), na_action='ignore')\n",
    "df_interval_mean = df_features_old.applymap(lambda x: Extract_Features(x, 'interval_mean'), na_action='ignore')\n",
    "df_separation_mean = df_features_old.applymap(lambda x: Extract_Features(x, 'separation_mean'), na_action='ignore')"
   ]
  },
  {
   "cell_type": "code",
   "execution_count": 163,
   "metadata": {},
   "outputs": [
    {
     "data": {
      "text/plain": [
       "172"
      ]
     },
     "execution_count": 163,
     "metadata": {},
     "output_type": "execute_result"
    }
   ],
   "source": [
    "df_num_peaks.shape[1]"
   ]
  },
  {
   "cell_type": "code",
   "execution_count": 62,
   "metadata": {},
   "outputs": [],
   "source": [
    "# num_peaks_ = df_separation_mean.to_numpy().flatten('F')"
   ]
  },
  {
   "cell_type": "code",
   "execution_count": 87,
   "metadata": {},
   "outputs": [],
   "source": [
    "# separation_mean = np.zeros([416, 600])\n",
    "# for index, value in enumerate(separation_mean_):\n",
    "# #     print(value)\n",
    "# #     print(value.shape)\n",
    "#     try:\n",
    "#         separation_mean[index] = value\n",
    "#     except:\n",
    "#         separation_mean[index] = np.nan"
   ]
  },
  {
   "cell_type": "code",
   "execution_count": 124,
   "metadata": {
    "scrolled": true
   },
   "outputs": [
    {
     "data": {
      "text/plain": [
       "(100,)"
      ]
     },
     "execution_count": 124,
     "metadata": {},
     "output_type": "execute_result"
    }
   ],
   "source": [
    "# np.array(demo['Pos0']['cont']['num_peaks']).shape"
   ]
  },
  {
   "cell_type": "code",
   "execution_count": 139,
   "metadata": {
    "scrolled": true
   },
   "outputs": [
    {
     "data": {
      "text/plain": [
       "1    [nan, 8.0, 0.0, nan, 10.0, 13.0, nan, nan, 14....\n",
       "2    [8.5, 26.0, 11.5, 12.0, nan, 12.5, 15.33333333...\n",
       "3    [0.0, 14.666666666666666, 10.0, 11.8, 14.5, 18...\n",
       "4    [0.0, 0.0, 0.0, 16.0, 13.75, 10.0, 14.5, 17.5,...\n",
       "Name: HL-101, dtype: object"
      ]
     },
     "execution_count": 139,
     "metadata": {},
     "output_type": "execute_result"
    }
   ],
   "source": [
    "# df_duration_mean['HL-101']"
   ]
  },
  {
   "cell_type": "code",
   "execution_count": 93,
   "metadata": {},
   "outputs": [],
   "source": [
    "# need_move = list(set(np.where(np.isnan(separation_mean))[0]))"
   ]
  },
  {
   "cell_type": "code",
   "execution_count": 96,
   "metadata": {},
   "outputs": [],
   "source": [
    "# preped_data = np.delete(separation_mean, need_move, axis=0)"
   ]
  },
  {
   "cell_type": "code",
   "execution_count": 97,
   "metadata": {},
   "outputs": [
    {
     "data": {
      "text/plain": [
       "(388, 600)"
      ]
     },
     "execution_count": 97,
     "metadata": {},
     "output_type": "execute_result"
    }
   ],
   "source": [
    "# preped_data.shape"
   ]
  },
  {
   "cell_type": "code",
   "execution_count": 164,
   "metadata": {},
   "outputs": [],
   "source": [
    "def merge(df):\n",
    "    separation_mean_ = df.to_numpy().flatten('F')\n",
    "    separation_mean = np.zeros([df.shape[0] * df.shape[1], 600])\n",
    "    for index, value in enumerate(separation_mean_):\n",
    "    #     print(value)\n",
    "    #     print(value.shape)\n",
    "        try:\n",
    "            separation_mean[index] = value\n",
    "        except:\n",
    "            separation_mean[index] = np.nan\n",
    "    return separation_mean"
   ]
  },
  {
   "cell_type": "code",
   "execution_count": 165,
   "metadata": {},
   "outputs": [],
   "source": [
    "num_peaks = merge(df_num_peaks)\n",
    "areas_sum = merge(df_areas_sum)\n",
    "areas_mean = merge(df_areas_mean)\n",
    "duration_mean = merge(df_duration_mean)\n",
    "dr = merge(df_dr)\n",
    "height_max = merge(df_height_max)\n",
    "height_mean = merge(df_height_mean)\n",
    "ap_mean = merge(df_ap_mean)\n",
    "interval_mean = merge(df_interval_mean)\n",
    "separation_mean= merge(df_separation_mean)"
   ]
  },
  {
   "cell_type": "code",
   "execution_count": 320,
   "metadata": {},
   "outputs": [
    {
     "data": {
      "text/plain": [
       "(416, 3, 200)"
      ]
     },
     "execution_count": 320,
     "metadata": {},
     "output_type": "execute_result"
    }
   ],
   "source": [
    "num_peaks.shape"
   ]
  },
  {
   "cell_type": "code",
   "execution_count": 166,
   "metadata": {},
   "outputs": [],
   "source": [
    "drugs_features_all = np.hstack((num_peaks, areas_sum, areas_mean, duration_mean, dr, height_max, height_mean, ap_mean, interval_mean, separation_mean))"
   ]
  },
  {
   "cell_type": "code",
   "execution_count": 167,
   "metadata": {},
   "outputs": [],
   "source": [
    "need_move = list(set(np.where(np.isnan(separation_mean))[0]))"
   ]
  },
  {
   "cell_type": "code",
   "execution_count": 168,
   "metadata": {},
   "outputs": [],
   "source": [
    "drugs_features_all = np.delete(drugs_features_all, need_move, axis=0)"
   ]
  },
  {
   "cell_type": "code",
   "execution_count": 169,
   "metadata": {},
   "outputs": [],
   "source": [
    "drugs_features_all[np.isnan(drugs_features_all)] = 0"
   ]
  },
  {
   "cell_type": "code",
   "execution_count": 183,
   "metadata": {},
   "outputs": [
    {
     "data": {
      "text/plain": [
       "(388, 6000)"
      ]
     },
     "execution_count": 183,
     "metadata": {},
     "output_type": "execute_result"
    }
   ],
   "source": [
    "drugs_features.shape"
   ]
  },
  {
   "cell_type": "code",
   "execution_count": 285,
   "metadata": {},
   "outputs": [
    {
     "data": {
      "text/plain": [
       "(559, 2000, 6)"
      ]
     },
     "execution_count": 285,
     "metadata": {},
     "output_type": "execute_result"
    }
   ],
   "source": [
    "old_features.shape"
   ]
  },
  {
   "cell_type": "code",
   "execution_count": 180,
   "metadata": {},
   "outputs": [
    {
     "data": {
      "text/plain": [
       "(962, 6000)"
      ]
     },
     "execution_count": 180,
     "metadata": {},
     "output_type": "execute_result"
    }
   ],
   "source": [
    "features_all.shape"
   ]
  },
  {
   "cell_type": "code",
   "execution_count": 172,
   "metadata": {},
   "outputs": [],
   "source": [
    "drugs_path = '/data2/mytu/feature_generation/features/drugs_features_all.npy'\n",
    "old_path = '/data2/mytu/feature_generation/features/old_features_all.npy'\n",
    "# np.save('/data2/mytu/feature_generation/features/drugs_features_all.npy', drugs_features_all)\n",
    "# np.save('/data2/mytu/feature_generation/features/old_features_all.npy', drugs_features_all)\n",
    "drugs_features = np.load(drugs_path)\n",
    "old_features = np.load(old_path)"
   ]
  },
  {
   "cell_type": "code",
   "execution_count": 177,
   "metadata": {},
   "outputs": [],
   "source": [
    "features_all = np.vstack((drugs_features, old_features))"
   ]
  },
  {
   "cell_type": "code",
   "execution_count": 188,
   "metadata": {},
   "outputs": [],
   "source": [
    "label = np.hstack(([1] * drugs_features.shape[0], [0] * old_features.shape[0]))"
   ]
  },
  {
   "cell_type": "code",
   "execution_count": 194,
   "metadata": {},
   "outputs": [],
   "source": [
    "# np.save('/data2/mytu/feature_generation/features/features_all.npy', features_all)\n",
    "np.save('/data2/mytu/feature_generation/features/label.npy', label)"
   ]
  },
  {
   "cell_type": "code",
   "execution_count": 289,
   "metadata": {},
   "outputs": [
    {
     "data": {
      "image/png": "[encoded data removed]",
      "text/plain": [
       "<Figure size 432x288 with 1 Axes>"
      ]
     },
     "metadata": {
      "needs_background": "light"
     },
     "output_type": "display_data"
    }
   ],
   "source": [
    "plt.hist(label)\n",
    "plt.show()"
   ]
  },
  {
   "cell_type": "markdown",
   "metadata": {},
   "source": [
    "## Extract_Features features to 2000*6 matrix"
   ]
  },
  {
   "cell_type": "code",
   "execution_count": 218,
   "metadata": {},
   "outputs": [],
   "source": [
    "def Extract_more_Features(demo, category):\n",
    "    features_pos0 = np.zeros([6, 100])\n",
    "    features_pos1 = np.zeros([6, 100])\n",
    "    try:\n",
    "        #c0, t0 means raw data, nc0, nt0 are after normalization. 0\\1 stands the pos of the fish.\n",
    "        c0 = np.array(demo['Pos0']['cont'][category])\n",
    "        t0 = np.array(demo['Pos0']['test'][category])\n",
    "        nc0 = (c0 - np.min(c0)) / (np.max(c0) - np.min(c0))\n",
    "        nt0 = (t0 - np.min(t0)) / (np.max(t0) - np.min(t0))\n",
    "        c1 = np.array(demo['Pos1']['cont'][category])\n",
    "        t1 = np.array(demo['Pos1']['test'][category])\n",
    "        nc1 = (c1 - np.min(c1)) / (np.max(c1) - np.min(c1))\n",
    "        nt1 = (t1 - np.min(t1)) / (np.max(t1) - np.min(t1))\n",
    "\n",
    "        #pos0 features\n",
    "        features_pos0[0] = c0\n",
    "        features_pos0[1] = t0\n",
    "        features_pos0[2] = nc0\n",
    "        features_pos0[3] = nt0\n",
    "        features_pos0[4] = t0 - c0\n",
    "        features_pos0[5] = nt0 - nc0\n",
    "\n",
    "        #pos1 features\n",
    "        features_pos1[0] = c1\n",
    "        features_pos1[1] = t1\n",
    "        features_pos1[2] = nc1\n",
    "        features_pos1[3] = nt1\n",
    "        features_pos1[4] = t1- c1\n",
    "        features_pos1[5] = nt1 - nc1\n",
    "\n",
    "        features = np.hstack((features_pos0, features_pos1))\n",
    "    except:\n",
    "        features = np.nan\n",
    "    return features"
   ]
  },
  {
   "cell_type": "code",
   "execution_count": 290,
   "metadata": {},
   "outputs": [],
   "source": [
    "def Extract_more_Features(demo, category):\n",
    "    features_pos0 = np.zeros([3, 100])\n",
    "    features_pos1 = np.zeros([3, 100])\n",
    "    try:\n",
    "        #c0, t0 means raw data, nc0, nt0 are after normalization. 0\\1 stands the pos of the fish.\n",
    "        c0 = np.array(demo['Pos0']['cont'][category])\n",
    "        t0 = np.array(demo['Pos0']['test'][category])\n",
    "#         nc0 = (c0 - np.min(c0)) / (np.max(c0) - np.min(c0))\n",
    "#         nt0 = (t0 - np.min(t0)) / (np.max(t0) - np.min(t0))\n",
    "        c1 = np.array(demo['Pos1']['cont'][category])\n",
    "        t1 = np.array(demo['Pos1']['test'][category])\n",
    "#         nc1 = (c1 - np.min(c1)) / (np.max(c1) - np.min(c1))\n",
    "#         nt1 = (t1 - np.min(t1)) / (np.max(t1) - np.min(t1))\n",
    "\n",
    "        #pos0 features\n",
    "        features_pos0[0] = c0\n",
    "        features_pos0[1] = t0\n",
    "        features_pos0[2] = t0 - c0\n",
    "#         features_pos0[2] = nc0\n",
    "#         features_pos0[3] = nt0\n",
    "#         features_pos0[5] = nt0 - nc0\n",
    "\n",
    "        #pos1 features\n",
    "        features_pos1[0] = c1\n",
    "        features_pos1[1] = t1\n",
    "        features_pos1[2] = t1- c1\n",
    "#         features_pos1[2] = nc1\n",
    "#         features_pos1[3] = nt1\n",
    "#         features_pos1[5] = nt1 - nc1\n",
    "\n",
    "        features = np.hstack((features_pos0, features_pos1))\n",
    "    except:\n",
    "        features = np.nan\n",
    "    return features"
   ]
  },
  {
   "cell_type": "code",
   "execution_count": 219,
   "metadata": {},
   "outputs": [
    {
     "name": "stderr",
     "output_type": "stream",
     "text": [
      "/home/software/anaconda3/lib/python3.7/site-packages/ipykernel_launcher.py:8: RuntimeWarning: invalid value encountered in true_divide\n",
      "  \n",
      "/home/software/anaconda3/lib/python3.7/site-packages/ipykernel_launcher.py:13: RuntimeWarning: invalid value encountered in true_divide\n",
      "  del sys.path[0]\n",
      "/home/software/anaconda3/lib/python3.7/site-packages/ipykernel_launcher.py:9: RuntimeWarning: invalid value encountered in true_divide\n",
      "  if __name__ == '__main__':\n",
      "/home/software/anaconda3/lib/python3.7/site-packages/ipykernel_launcher.py:12: RuntimeWarning: invalid value encountered in true_divide\n",
      "  if sys.path[0] == '':\n"
     ]
    }
   ],
   "source": [
    "# df_num_peaks = df_features_old.applymap(lambda x: Extract_more_Features(x, 'num_peaks'), na_action='ignore')"
   ]
  },
  {
   "cell_type": "code",
   "execution_count": 215,
   "metadata": {},
   "outputs": [
    {
     "data": {
      "text/plain": [
       "(6, 200)"
      ]
     },
     "execution_count": 215,
     "metadata": {},
     "output_type": "execute_result"
    }
   ],
   "source": [
    "# Extract_more_Features(demo, 'num_peaks').shape"
   ]
  },
  {
   "cell_type": "code",
   "execution_count": 291,
   "metadata": {},
   "outputs": [],
   "source": [
    "df_num_peaks = df_features_old.applymap(lambda x: Extract_more_Features(x, 'num_peaks'), na_action='ignore')\n",
    "df_areas_sum = df_features_old.applymap(lambda x: Extract_more_Features(x, 'areas_sum'), na_action='ignore')\n",
    "df_areas_mean = df_features_old.applymap(lambda x: Extract_more_Features(x, 'areas_mean'), na_action='ignore')\n",
    "df_duration_mean = df_features_old.applymap(lambda x: Extract_more_Features(x, 'duration_mean'), na_action='ignore')\n",
    "df_dr = df_features_old.applymap(lambda x: Extract_more_Features(x, 'dr'), na_action='ignore')\n",
    "df_height_max = df_features_old.applymap(lambda x: Extract_more_Features(x, 'height_max'), na_action='ignore')\n",
    "df_height_mean = df_features_old.applymap(lambda x: Extract_more_Features(x, 'height_mean'), na_action='ignore')\n",
    "df_ap_mean = df_features_old.applymap(lambda x: Extract_more_Features(x, 'ap_mean'), na_action='ignore')\n",
    "df_interval_mean = df_features_old.applymap(lambda x: Extract_more_Features(x, 'interval_mean'), na_action='ignore')\n",
    "df_separation_mean = df_features_old.applymap(lambda x: Extract_more_Features(x, 'separation_mean'), na_action='ignore')"
   ]
  },
  {
   "cell_type": "code",
   "execution_count": 302,
   "metadata": {},
   "outputs": [],
   "source": [
    "df_num_peaks = df_features_drugs.applymap(lambda x: Extract_more_Features(x, 'num_peaks'), na_action='ignore')\n",
    "df_areas_sum = df_features_drugs.applymap(lambda x: Extract_more_Features(x, 'areas_sum'), na_action='ignore')\n",
    "df_areas_mean = df_features_drugs.applymap(lambda x: Extract_more_Features(x, 'areas_mean'), na_action='ignore')\n",
    "df_duration_mean = df_features_drugs.applymap(lambda x: Extract_more_Features(x, 'duration_mean'), na_action='ignore')\n",
    "df_dr = df_features_drugs.applymap(lambda x: Extract_more_Features(x, 'dr'), na_action='ignore')\n",
    "df_height_max = df_features_drugs.applymap(lambda x: Extract_more_Features(x, 'height_max'), na_action='ignore')\n",
    "df_height_mean = df_features_drugs.applymap(lambda x: Extract_more_Features(x, 'height_mean'), na_action='ignore')\n",
    "df_ap_mean = df_features_drugs.applymap(lambda x: Extract_more_Features(x, 'ap_mean'), na_action='ignore')\n",
    "df_interval_mean = df_features_drugs.applymap(lambda x: Extract_more_Features(x, 'interval_mean'), na_action='ignore')\n",
    "df_separation_mean = df_features_drugs.applymap(lambda x: Extract_more_Features(x, 'separation_mean'), na_action='ignore')"
   ]
  },
  {
   "cell_type": "code",
   "execution_count": 292,
   "metadata": {},
   "outputs": [],
   "source": [
    "def merge(df):\n",
    "    feature_ = df.to_numpy().flatten('F')\n",
    "    feature = np.zeros([df.shape[0] * df.shape[1], 3, 200])\n",
    "    for index, value in enumerate(feature_):\n",
    "    #     print(value)\n",
    "    #     print(value.shape)\n",
    "        try:\n",
    "            feature[index] = value\n",
    "        except:\n",
    "            feature[index] = np.nan\n",
    "    return feature"
   ]
  },
  {
   "cell_type": "code",
   "execution_count": 232,
   "metadata": {},
   "outputs": [
    {
     "data": {
      "text/plain": [
       "(6, 200)"
      ]
     },
     "execution_count": 232,
     "metadata": {},
     "output_type": "execute_result"
    }
   ],
   "source": [
    "# df_separation_mean['1046'][1].shape"
   ]
  },
  {
   "cell_type": "code",
   "execution_count": 303,
   "metadata": {},
   "outputs": [],
   "source": [
    "num_peaks = merge(df_num_peaks)\n",
    "areas_sum = merge(df_areas_sum)\n",
    "areas_mean = merge(df_areas_mean)\n",
    "duration_mean = merge(df_duration_mean)\n",
    "dr = merge(df_dr)\n",
    "height_max = merge(df_height_max)\n",
    "height_mean = merge(df_height_mean)\n",
    "ap_mean = merge(df_ap_mean)\n",
    "interval_mean = merge(df_interval_mean)\n",
    "separation_mean= merge(df_separation_mean)"
   ]
  },
  {
   "cell_type": "code",
   "execution_count": 304,
   "metadata": {},
   "outputs": [
    {
     "data": {
      "text/plain": [
       "(416, 3, 200)"
      ]
     },
     "execution_count": 304,
     "metadata": {},
     "output_type": "execute_result"
    }
   ],
   "source": [
    "num_peaks.shape"
   ]
  },
  {
   "cell_type": "code",
   "execution_count": 305,
   "metadata": {},
   "outputs": [],
   "source": [
    "need_move = list(set(np.where(np.isnan(num_peaks))[0]))"
   ]
  },
  {
   "cell_type": "code",
   "execution_count": 306,
   "metadata": {},
   "outputs": [],
   "source": [
    "drugs_features_all = np.concatenate((num_peaks, areas_sum, areas_mean, duration_mean, dr, height_max, height_mean, ap_mean, interval_mean, separation_mean), axis=2)"
   ]
  },
  {
   "cell_type": "code",
   "execution_count": 307,
   "metadata": {},
   "outputs": [],
   "source": [
    "drugs_features_all_ = np.swapaxes(drugs_features_all, 1, 2)"
   ]
  },
  {
   "cell_type": "code",
   "execution_count": 308,
   "metadata": {},
   "outputs": [
    {
     "data": {
      "text/plain": [
       "(416, 2000, 3)"
      ]
     },
     "execution_count": 308,
     "metadata": {},
     "output_type": "execute_result"
    }
   ],
   "source": [
    "drugs_features_all_.shape"
   ]
  },
  {
   "cell_type": "code",
   "execution_count": 309,
   "metadata": {},
   "outputs": [],
   "source": [
    "drugs_features_all_ = np.delete(drugs_features_all_, need_move, axis=0)"
   ]
  },
  {
   "cell_type": "code",
   "execution_count": 310,
   "metadata": {},
   "outputs": [],
   "source": [
    "drugs_features_all_[np.isnan(drugs_features_all_)] = 0"
   ]
  },
  {
   "cell_type": "code",
   "execution_count": 311,
   "metadata": {},
   "outputs": [],
   "source": [
    "# np.save('/data2/mytu/feature_generation/features/drugs_features_2000_3.npy', drugs_features_all_)\n",
    "# np.save('/data2/mytu/feature_generation/features/old_features_2000_3.npy', drugs_features_all_)"
   ]
  },
  {
   "cell_type": "code",
   "execution_count": 322,
   "metadata": {},
   "outputs": [],
   "source": [
    "drugs_path = '/data2/mytu/feature_generation/features/drugs_features_norm_all.npy'\n",
    "old_path = '/data2/mytu/feature_generation/features/old_features_norm_all.npy'\n",
    "drugs_features = np.load(drugs_path)\n",
    "old_features = np.load(old_path)"
   ]
  },
  {
   "cell_type": "code",
   "execution_count": 313,
   "metadata": {
    "run_control": {
     "marked": false
    }
   },
   "outputs": [],
   "source": [
    "features_all = np.vstack((drugs_features, old_features))"
   ]
  },
  {
   "cell_type": "code",
   "execution_count": 314,
   "metadata": {},
   "outputs": [
    {
     "data": {
      "text/plain": [
       "(962, 2000, 3)"
      ]
     },
     "execution_count": 314,
     "metadata": {},
     "output_type": "execute_result"
    }
   ],
   "source": [
    "features_all.shape"
   ]
  },
  {
   "cell_type": "code",
   "execution_count": 315,
   "metadata": {},
   "outputs": [],
   "source": [
    "# np.save('/data2/mytu/feature_generation/features/features_2000_3.npy', features_all)"
   ]
  },
  {
   "cell_type": "code",
   "execution_count": 323,
   "metadata": {},
   "outputs": [
    {
     "data": {
      "text/plain": [
       "(381, 2000, 6)"
      ]
     },
     "execution_count": 323,
     "metadata": {},
     "output_type": "execute_result"
    }
   ],
   "source": [
    "drugs_features.shape"
   ]
  },
  {
   "cell_type": "code",
   "execution_count": 324,
   "metadata": {},
   "outputs": [
    {
     "data": {
      "text/plain": [
       "(559, 2000, 6)"
      ]
     },
     "execution_count": 324,
     "metadata": {},
     "output_type": "execute_result"
    }
   ],
   "source": [
    "old_features.shape"
   ]
  },
  {
   "cell_type": "code",
   "execution_count": 318,
   "metadata": {},
   "outputs": [],
   "source": [
    "label = np.hstack(([1] * drugs_features.shape[0], [0] * old_features.shape[0]))"
   ]
  },
  {
   "cell_type": "code",
   "execution_count": 319,
   "metadata": {},
   "outputs": [],
   "source": [
    "# np.save('/data2/mytu/feature_generation/features/label_2000_3.npy', label)"
   ]
  },
  {
   "cell_type": "code",
   "execution_count": null,
   "metadata": {},
   "outputs": [],
   "source": []
  }
 ],
 "metadata": {
  "kernelspec": {
   "display_name": "Python 3",
   "language": "python",
   "name": "python3"
  },
  "language_info": {
   "codemirror_mode": {
    "name": "ipython",
    "version": 3
   },
   "file_extension": ".py",
   "mimetype": "text/x-python",
   "name": "python",
   "nbconvert_exporter": "python",
   "pygments_lexer": "ipython3",
   "version": "3.7.3"
  },
  "toc": {
   "base_numbering": 1,
   "nav_menu": {},
   "number_sections": true,
   "sideBar": true,
   "skip_h1_title": false,
   "title_cell": "Table of Contents",
   "title_sidebar": "Contents",
   "toc_cell": false,
   "toc_position": {
    "height": "664.545px",
    "left": "50px",
    "top": "110.142px",
    "width": "195px"
   },
   "toc_section_display": true,
   "toc_window_display": true
  },
  "varInspector": {
   "cols": {
    "lenName": 16,
    "lenType": 16,
    "lenVar": 40
   },
   "kernels_config": {
    "python": {
     "delete_cmd_postfix": "",
     "delete_cmd_prefix": "del ",
     "library": "var_list.py",
     "varRefreshCmd": "print(var_dic_list())"
    },
    "r": {
     "delete_cmd_postfix": ") ",
     "delete_cmd_prefix": "rm(",
     "library": "var_list.r",
     "varRefreshCmd": "cat(var_dic_list()) "
    }
   },
   "types_to_exclude": [
    "module",
    "function",
    "builtin_function_or_method",
    "instance",
    "_Feature"
   ],
   "window_display": false
  }
 },
 "nbformat": 4,
 "nbformat_minor": 4
}
